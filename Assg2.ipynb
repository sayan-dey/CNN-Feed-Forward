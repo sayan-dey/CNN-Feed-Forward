{
  "nbformat": 4,
  "nbformat_minor": 0,
  "metadata": {
    "colab": {
      "provenance": []
    },
    "kernelspec": {
      "name": "python3",
      "display_name": "Python 3"
    },
    "language_info": {
      "name": "python"
    }
  },
  "cells": [
    {
      "cell_type": "code",
      "execution_count": 113,
      "metadata": {
        "id": "fs4Ap6Oa2GU4"
      },
      "outputs": [],
      "source": [
        "!pip install -U -q PyDrive\n",
        "from pydrive.auth import GoogleAuth\n",
        "from pydrive.drive import GoogleDrive\n",
        "from google.colab import auth\n",
        "from oauth2client.client import GoogleCredentials\n"
      ]
    },
    {
      "cell_type": "code",
      "source": [
        "auth.authenticate_user()\n",
        "gauth = GoogleAuth()\n",
        "gauth.credentials = GoogleCredentials.get_application_default()\n",
        "drive = GoogleDrive(gauth)"
      ],
      "metadata": {
        "id": "tjgTfrmVZ2KS"
      },
      "execution_count": 114,
      "outputs": []
    },
    {
      "cell_type": "code",
      "source": [
        "#importing libraries \n",
        "import pandas as pd \n",
        "import numpy as np\n",
        "import matplotlib.pyplot as plt\n",
        "\n",
        "import warnings\n",
        "warnings.filterwarnings(\"ignore\")"
      ],
      "metadata": {
        "id": "e1jIDsQLY-B3"
      },
      "execution_count": 115,
      "outputs": []
    },
    {
      "cell_type": "code",
      "source": [
        "# get the image (this image file is in my drive but shared publiclyt)\n",
        "downloaded = drive.CreateFile({'id': '1HnTCPx8VzkN1jj6GiIlq5uBYS65CL-xu'}) # replace the id with id of file you want to access\n",
        "downloaded.GetContentFile('logo.jpg') "
      ],
      "metadata": {
        "id": "15uM7d1wZLs3"
      },
      "execution_count": 116,
      "outputs": []
    },
    {
      "cell_type": "markdown",
      "source": [
        "# **Ques 1. Convolution function:**"
      ],
      "metadata": {
        "id": "lR_AIRtN6xhl"
      }
    },
    {
      "cell_type": "markdown",
      "source": [
        "Defining different activation functions"
      ],
      "metadata": {
        "id": "HI6HEDGPLQyD"
      }
    },
    {
      "cell_type": "code",
      "source": [
        "\n",
        "def sigmoid(conv):\n",
        "  output = 1 / (1 + np.exp(-conv))\n",
        "  return output\n",
        "def tanh(conv):\n",
        "  output = np.tanh(conv)\n",
        "  return output\n",
        "def relu(conv):\n",
        "  output = np.maximum(conv,0)\n",
        "  return output\n",
        "def prelu(conv):\n",
        "  alpha = 0.1 #hyperparameter\n",
        "  output = np.maximum(conv, alpha * conv)\n",
        "  return output\n",
        "\n",
        "  \n",
        "     "
      ],
      "metadata": {
        "id": "7z-bvHAQ9BMX"
      },
      "execution_count": 117,
      "outputs": []
    },
    {
      "cell_type": "markdown",
      "source": [
        "Below, we define the class for convolutional layer using a custom Conv2D class. **Just for example**, We set the input channels to 3 (for RGB images), the output channels to 8, kernel size to 3, stride to 1 and also, padding to 1.\n",
        "We will see the output activation map for different activation functions \n"
      ],
      "metadata": {
        "id": "kUeCYrpJKGkq"
      }
    },
    {
      "cell_type": "code",
      "source": [
        "\n",
        "# taking default activation function as tanh\n",
        "class Conv2D:\n",
        "    def __init__(self, filters, in_channels, out_channels, kernel_size, stride=1, padding=0, activation_function=tanh):\n",
        "        self.in_channels = in_channels\n",
        "        self.out_channels = out_channels\n",
        "        self.kernel_size = kernel_size\n",
        "        self.stride = stride\n",
        "        self.padding = padding\n",
        "        self.activation_function = activation_function\n",
        "        # self.filters = np.random.randn(out_channels, in_channels, kernel_size, kernel_size)\n",
        "\n",
        "    def forward(self, X):\n",
        "        num_images, _, height, width = X.shape\n",
        "        output_height = int((height + 2 * self.padding - self.kernel_size) / self.stride) + 1\n",
        "        output_width = int((width + 2 * self.padding - self.kernel_size) / self.stride) + 1\n",
        "        output = np.zeros((num_images, self.out_channels, output_height, output_width))\n",
        "\n",
        "        # Pad the input array\n",
        "        X_padded = np.pad(X, ((0, 0), (0, 0), (self.padding, self.padding), (self.padding, self.padding)), mode=\"constant\")\n",
        "\n",
        "        # Perform the convolution\n",
        "        for image_index in range(num_images):\n",
        "            for filter_index in range(self.out_channels):\n",
        "                for row in range(output_height):\n",
        "                    for col in range(output_width):\n",
        "                        output[image_index, filter_index, row, col] = np.sum(\n",
        "                            X_padded[image_index, :, row * self.stride : row * self.stride + self.kernel_size, col * self.stride : col * self.stride + self.kernel_size]\n",
        "                            * filters[filter_index]\n",
        "                        )\n",
        "\n",
        "                        # Applying the activation function\n",
        "                        output[image_index, filter_index, row, col] = self.activation_function(output[image_index, filter_index, row, col])\n",
        "\n",
        "        return output\n",
        "\n",
        "\n",
        "\n"
      ],
      "metadata": {
        "id": "AO1sY7gB6W8f"
      },
      "execution_count": 118,
      "outputs": []
    },
    {
      "cell_type": "code",
      "source": [
        "# Load the input image\n",
        "input_image = plt.imread(\"logo.jpg\")\n",
        "\n",
        "# Convert the input image to a NumPy array in the correct format (BGR -> RGB and then HWC -> CHW)\n",
        "input_array = input_image[:, :, ::-1]  # BGR to RGB\n",
        "# Transpose the array to CHW format\n",
        "input_array = np.transpose(input_array, (2, 0, 1))\n",
        "\n",
        "\n",
        "# Add a batch dimension to the input array\n",
        "input_batch = np.expand_dims(input_array, axis=0)\n",
        "\n",
        "# Displaying the input image\n",
        "plt.subplot(1, 3, 1)\n",
        "plt.imshow(input_image)\n",
        "plt.title(\"Input Image \")\n",
        "plt.show\n",
        "\n",
        "in_channels=3\n",
        "out_channels=8\n",
        "kernel_size=3 \n",
        "stride=1\n",
        "padding=1\n",
        "\n",
        "filters = np.random.randn(out_channels, in_channels, kernel_size, kernel_size)\n",
        "kernel_array = filters[0, 0]\n",
        "\n",
        "\n",
        "# Displaying the filter kernel\n",
        "plt.subplot(1, 3, 3)\n",
        "plt.imshow(kernel_array)\n",
        "plt.title(\"Filter Kernel\")"
      ],
      "metadata": {
        "colab": {
          "base_uri": "https://localhost:8080/",
          "height": 184
        },
        "id": "kHsvhrkYA7dD",
        "outputId": "fc8036fa-d87a-4271-891e-d97df9165c1a"
      },
      "execution_count": 121,
      "outputs": [
        {
          "output_type": "execute_result",
          "data": {
            "text/plain": [
              "Text(0.5, 1.0, 'Filter Kernel')"
            ]
          },
          "metadata": {},
          "execution_count": 121
        },
        {
          "output_type": "display_data",
          "data": {
            "text/plain": [
              "<Figure size 432x288 with 2 Axes>"
            ],
            "image/png": "[encoded data removed]"
          },
          "metadata": {
            "needs_background": "light"
          }
        }
      ]
    },
    {
      "cell_type": "code",
      "source": [
        "# Define the convolutional layer with sigmoid\n",
        "conv_layer = Conv2D(filters, in_channels, out_channels, kernel_size, stride, padding, activation_function=sigmoid)\n",
        "\n",
        "# Pass the input batch through the convolutional layer\n",
        "output_batch = conv_layer.forward(input_batch)\n",
        "# Convert the output batch to a NumPy array and remove the batch dimension\n",
        "output_array = output_batch[0]\n",
        "\n",
        "# Displaying the output activation map for sigmoid\n",
        "plt.subplot(1, 3, 3)\n",
        "plt.imshow(output_array[0]) \n",
        "plt.title(\"Output Activation Map for sigmoid\")\n"
      ],
      "metadata": {
        "colab": {
          "base_uri": "https://localhost:8080/",
          "height": 184
        },
        "id": "V1AEHgSPE0XP",
        "outputId": "2942be77-9818-4b82-fe05-c451abc3cdab"
      },
      "execution_count": 122,
      "outputs": [
        {
          "output_type": "execute_result",
          "data": {
            "text/plain": [
              "Text(0.5, 1.0, 'Output Activation Map for sigmoid')"
            ]
          },
          "metadata": {},
          "execution_count": 122
        },
        {
          "output_type": "display_data",
          "data": {
            "text/plain": [
              "<Figure size 432x288 with 1 Axes>"
            ],
            "image/png": "[encoded data removed]"
          },
          "metadata": {
            "needs_background": "light"
          }
        }
      ]
    },
    {
      "cell_type": "code",
      "source": [
        "# Define the convolutional layer\n",
        "conv_layer = Conv2D(filter, in_channels, out_channels, kernel_size, stride, padding, activation_function=tanh)\n",
        "\n",
        "\n",
        "output_batch = conv_layer.forward(input_batch)\n",
        "output_array = output_batch[0]\n",
        "\n",
        "# Displaying the output activation map for tanh\n",
        "plt.subplot(1, 3, 3)\n",
        "plt.imshow(output_array[0]) \n",
        "plt.title(\"Output Activation Map for tanh\")"
      ],
      "metadata": {
        "colab": {
          "base_uri": "https://localhost:8080/",
          "height": 184
        },
        "id": "UxygY0uxGlu_",
        "outputId": "83bc689b-f4c0-4201-dd6b-bbef2905faf2"
      },
      "execution_count": 123,
      "outputs": [
        {
          "output_type": "execute_result",
          "data": {
            "text/plain": [
              "Text(0.5, 1.0, 'Output Activation Map for tanh')"
            ]
          },
          "metadata": {},
          "execution_count": 123
        },
        {
          "output_type": "display_data",
          "data": {
            "text/plain": [
              "<Figure size 432x288 with 1 Axes>"
            ],
            "image/png": "[encoded data removed]"
          },
          "metadata": {
            "needs_background": "light"
          }
        }
      ]
    },
    {
      "cell_type": "code",
      "source": [
        "# Define the convolutional layer\n",
        "conv_layer = Conv2D(filter, in_channels, out_channels, kernel_size, stride, padding, activation_function=relu)\n",
        "\n",
        "\n",
        "output_batch = conv_layer.forward(input_batch)\n",
        "output_array = output_batch[0]\n",
        "# Displayng the output activation map for relu\n",
        "plt.subplot(1, 3, 3)\n",
        "plt.imshow(output_array[0]) \n",
        "plt.title(\"Output Activation Map for relu\")"
      ],
      "metadata": {
        "colab": {
          "base_uri": "https://localhost:8080/",
          "height": 184
        },
        "id": "dKBOya_mGm64",
        "outputId": "0624351a-d23d-4520-cc7e-239f88103bf3"
      },
      "execution_count": 124,
      "outputs": [
        {
          "output_type": "execute_result",
          "data": {
            "text/plain": [
              "Text(0.5, 1.0, 'Output Activation Map for relu')"
            ]
          },
          "metadata": {},
          "execution_count": 124
        },
        {
          "output_type": "display_data",
          "data": {
            "text/plain": [
              "<Figure size 432x288 with 1 Axes>"
            ],
            "image/png": "[encoded data removed]"
          },
          "metadata": {
            "needs_background": "light"
          }
        }
      ]
    },
    {
      "cell_type": "code",
      "source": [
        "# Define the convolutional layer\n",
        "conv_layer = Conv2D(filters, in_channels, out_channels, kernel_size, stride, padding, activation_function=prelu)\n",
        "\n",
        "\n",
        "output_batch = conv_layer.forward(input_batch)\n",
        "output_array = output_batch[0]\n",
        "\n",
        "# Displaying the output activation map for prelu\n",
        "plt.subplot(1, 3, 3)\n",
        "plt.imshow(output_array[0]) \n",
        "plt.title(\"Output Activation Map for prelu\")"
      ],
      "metadata": {
        "colab": {
          "base_uri": "https://localhost:8080/",
          "height": 184
        },
        "id": "G7FcVcvMGsXP",
        "outputId": "7a0dc323-ed45-403b-f577-61a1d544b467"
      },
      "execution_count": 125,
      "outputs": [
        {
          "output_type": "execute_result",
          "data": {
            "text/plain": [
              "Text(0.5, 1.0, 'Output Activation Map for prelu')"
            ]
          },
          "metadata": {},
          "execution_count": 125
        },
        {
          "output_type": "display_data",
          "data": {
            "text/plain": [
              "<Figure size 432x288 with 1 Axes>"
            ],
            "image/png": "[encoded data removed]"
          },
          "metadata": {
            "needs_background": "light"
          }
        }
      ]
    },
    {
      "cell_type": "code",
      "source": [],
      "metadata": {
        "id": "0q3qZ8xGPC2l"
      },
      "execution_count": null,
      "outputs": []
    },
    {
      "cell_type": "markdown",
      "source": [
        "# **Ques 2. Pooling function:**"
      ],
      "metadata": {
        "id": "0Z3p1FNj6wA5"
      }
    },
    {
      "cell_type": "markdown",
      "source": [
        "\n",
        "Below pooling function performs max pooling on the activation map output from the convolution function, with the given pool size and stride.\n",
        "\n",
        "It takes the following arguments as input:\n",
        "* activation_map: numpy array of shape (height, width, channels)\n",
        "* kernel_size: integer specifying the kernel size\n",
        "* stride: integer specifying the stride\n",
        "\n",
        "It returns:\n",
        "* pooled_activation_map -- numpy array of shape (pooled_height, pooled_width, channels)\n",
        "    "
      ],
      "metadata": {
        "id": "CVSRN_3b0pYX"
      }
    },
    {
      "cell_type": "code",
      "source": [
        "def max_pooling(activation_map, kernel_size, stride):\n",
        "    \n",
        "    # Determining the size of the output map\n",
        "    height, width, channels = activation_map.shape\n",
        "    pooled_height = (height - kernel_size) // stride + 1\n",
        "    pooled_width = (width - kernel_size) // stride + 1\n",
        "    \n",
        "    # Initializing the output map\n",
        "    pooled_activation_map = np.zeros((pooled_height, pooled_width, channels))\n",
        "    \n",
        "    # Performing max pooling\n",
        "    for h in range(pooled_height):\n",
        "        for w in range(pooled_width):\n",
        "            h_start = h * stride\n",
        "            h_end = h_start + kernel_size\n",
        "            w_start = w * stride\n",
        "            w_end = w_start + kernel_size\n",
        "            pool_region = activation_map[h_start:h_end, w_start:w_end, :]\n",
        "            pooled_activation_map[h, w, :] = np.amax(pool_region, axis=(0, 1))\n",
        "    \n",
        "    return pooled_activation_map\n",
        "\n",
        "\n",
        "\n"
      ],
      "metadata": {
        "id": "49gyTjZcNLCj"
      },
      "execution_count": 126,
      "outputs": []
    },
    {
      "cell_type": "code",
      "source": [
        "\n",
        "# Defining the input map (just for example)\n",
        "input = output_array #this is actually the o/p activation map of convolution func considering prelu\n",
        "kernel_size = 2\n",
        "stride = 2\n",
        "\n",
        "# Performing max pooling\n",
        "pooled_activation_map = max_pooling(input, kernel_size, stride)\n",
        "\n",
        "# Displaying the input activation map for maxpooling\n",
        "plt.subplot(1, 3, 1)\n",
        "plt.imshow(input[0]) \n",
        "plt.title(\"Input Activation Map\")\n",
        "\n",
        "# Displaying the pooled output after maxpooling\n",
        "plt.subplot(1, 3, 3)\n",
        "plt.imshow(pooled_activation_map[0]) \n",
        "plt.title(\"Pooled output\")\n",
        "\n",
        "# ax = plt.subplot(projection='3d')\n",
        "\n",
        "# grid = np.meshgrid(np.arange(pooled_activation_map.shape[2]),\n",
        "#                    np.arange(pooled_activation_map.shape[1]),\n",
        "#                    np.arange(pooled_activation_map.shape[0]))\n",
        "\n",
        "# x = ax.scatter(*grid, c=pooled_activation_map)\n",
        "# plt.colorbar(x)\n"
      ],
      "metadata": {
        "colab": {
          "base_uri": "https://localhost:8080/",
          "height": 184
        },
        "id": "AfC92a9InuRb",
        "outputId": "ae2f4ba2-48cc-4c08-df48-aa0b9c128c6a"
      },
      "execution_count": 127,
      "outputs": [
        {
          "output_type": "execute_result",
          "data": {
            "text/plain": [
              "Text(0.5, 1.0, 'Pooled output')"
            ]
          },
          "metadata": {},
          "execution_count": 127
        },
        {
          "output_type": "display_data",
          "data": {
            "text/plain": [
              "<Figure size 432x288 with 2 Axes>"
            ],
            "image/png": "[encoded data removed]"
          },
          "metadata": {
            "needs_background": "light"
          }
        }
      ]
    },
    {
      "cell_type": "code",
      "source": [],
      "metadata": {
        "id": "r9QwO7YvPB0Y"
      },
      "execution_count": null,
      "outputs": []
    },
    {
      "cell_type": "markdown",
      "source": [
        "# **Ques 3. Convolution layer function:**"
      ],
      "metadata": {
        "id": "AA1-Z3EU4fX3"
      }
    },
    {
      "cell_type": "markdown",
      "source": [
        "Below function *conv_layer* accepts the following arguments as input:\n",
        "* input_volume: activation maps \n",
        "* num_filters: number of filters\n",
        "* kernel_size: kernel dimensions\n",
        "* stride\n",
        "* padding\n",
        "* non_linearity: the non-linear function \n",
        "\n",
        "And returns the input activation maps, the filter kernels and the output activation maps, which are displayed"
      ],
      "metadata": {
        "id": "Da0DLkQ8Nyvd"
      }
    },
    {
      "cell_type": "code",
      "source": [
        "def conv_layer(input_volume, num_filters, kernel_size, stride, padding, non_linearity):\n",
        "    # Getting input volume dimensions\n",
        "    H, W, C = input_volume.shape\n",
        "\n",
        "    # Add padding to input volume\n",
        "    if padding != 0:\n",
        "        padded_volume = np.pad(input_volume, ((padding,padding),(padding,padding),(0,0)), 'constant')\n",
        "    else:\n",
        "        padded_volume = input_volume\n",
        "\n",
        "    # Initializing output volume\n",
        "    out_height = int((H + 2*padding - kernel_size) / stride) + 1\n",
        "    out_width = int((W + 2*padding - kernel_size) / stride) + 1\n",
        "    out_volume = np.zeros((out_height, out_width, num_filters))\n",
        "\n",
        "    # Initializing the filter kernels\n",
        "    kernels = np.random.randn(kernel_size, kernel_size, C, num_filters)\n",
        "\n",
        "    # Convolve input volume with each filter kernel\n",
        "    for f in range(num_filters):\n",
        "        for i in range(0, H + 2*padding - kernel_size + 1, stride):\n",
        "            for j in range(0, W + 2*padding - kernel_size + 1, stride):\n",
        "                receptive_field = padded_volume[i:i+kernel_size, j:j+kernel_size, :]\n",
        "                out_volume[(i//stride), (j//stride), f] = np.sum(receptive_field * kernels[:, :, :, f])\n",
        "\n",
        "    # Applying non-linearity to output volume\n",
        "    if non_linearity == 'sigmoid':\n",
        "      out_volume = sigmoid(out_volume)\n",
        "    if non_linearity == 'tanh':\n",
        "      out_volume = tanh(out_volume)\n",
        "    if non_linearity == 'relu':\n",
        "      out_volume = relu(out_volume)\n",
        "    if non_linearity == 'prelu':\n",
        "      out_volume = prelu(out_volume)\n",
        "\n",
        "    return input_volume, kernels, out_volume\n"
      ],
      "metadata": {
        "id": "PvEfUBy14ed2"
      },
      "execution_count": 128,
      "outputs": []
    },
    {
      "cell_type": "code",
      "source": [],
      "metadata": {
        "id": "xWvEpJbBPAte"
      },
      "execution_count": null,
      "outputs": []
    },
    {
      "cell_type": "markdown",
      "source": [
        "# **Ques 4. Pooling layer function:**"
      ],
      "metadata": {
        "id": "ICZpegiCPEgB"
      }
    },
    {
      "cell_type": "markdown",
      "source": [
        "Below is the implementation of *pooling_layer* function which accepts as input the activation map volume, pool, stride, an optional boolean variable and generates a pooled output volume with the same number of channels as the input volume.\n",
        "\n",
        "By default, max pooling is getting done.\n",
        "\n",
        "**For performing Global Average Pooling**, the variable global_avg_pool needs to be set to True"
      ],
      "metadata": {
        "id": "32yHtAe36_28"
      }
    },
    {
      "cell_type": "code",
      "source": [
        "def pooling_layer(volume, pool_size, stride, global_avg_pool=False):\n",
        "    # Getting the dimensions of the input volume\n",
        "    input_H, input_W, input_C = volume.shape\n",
        "    \n",
        "    # Calculating the output volume dimensions based on the pooling function and stride\n",
        "    if global_avg_pool:\n",
        "        output_height, output_width = 1, 1\n",
        "    else:\n",
        "        output_height = ((input_H - pool_size) // stride) + 1\n",
        "        output_width = ((input_W - pool_size) // stride) + 1\n",
        "    \n",
        "    # Initializing the output volume\n",
        "    output_volume = np.zeros((output_height, output_width, input_C))\n",
        "    \n",
        "    # Applying pooling on each channel of the input volume\n",
        "    for channel in range(input_C):\n",
        "        # Slicing the channel of the input volume\n",
        "        channel_slice = volume[:,:,channel]\n",
        "        \n",
        "        if global_avg_pool:  #Global average pooling\n",
        "            output_volume[0, 0, channel] = np.mean(channel_slice)\n",
        "        else: # Max pooling on the channel\n",
        "            for i in range(output_height):\n",
        "                for j in range(output_width):\n",
        "                    # Slice the input volume based on the pooling function and stride\n",
        "                    slice_height_start = i * stride\n",
        "                    slice_height_end = slice_height_start + pool_size\n",
        "                    slice_width_start = j * stride\n",
        "                    slice_width_end = slice_width_start + pool_size\n",
        "                    slice = channel_slice[slice_height_start:slice_height_end, slice_width_start:slice_width_end]\n",
        "                    \n",
        "                    # Apply the pooling function to the slice\n",
        "                    output_volume[i, j, channel] = np.max(slice) # using max pooling\n",
        "\n",
        "    return volume, output_volume\n"
      ],
      "metadata": {
        "id": "uPbJX0itPKOZ"
      },
      "execution_count": 129,
      "outputs": []
    },
    {
      "cell_type": "code",
      "source": [],
      "metadata": {
        "id": "HDmdrLa0AyPp"
      },
      "execution_count": null,
      "outputs": []
    },
    {
      "cell_type": "markdown",
      "source": [
        "# **Ques 5. Flattening (unraveling) function:**"
      ],
      "metadata": {
        "id": "poLSHeelAyhf"
      }
    },
    {
      "cell_type": "markdown",
      "source": [
        "Below is the implementation of *flatten* function that accepts as input the activation map volume output of the above pooling layer and generates a 1D vector that can be fed to fully connected layers"
      ],
      "metadata": {
        "id": "znTt7_V5xL0i"
      }
    },
    {
      "cell_type": "code",
      "source": [
        "def flatten(pool_output, weight_matrix):\n",
        "    # Get the shape of the activation map volume\n",
        "    shape = pool_output.shape\n",
        "\n",
        "    # Flatten the activation map volume into a 1D array\n",
        "    flat_pool = pool_output.flatten()\n",
        "    flat_pool = flat_pool.reshape(-1,1)\n",
        "\n",
        "    # Performing matrix multiplication with the weight matrix\n",
        "    output = np.dot(flat_pool,weight_matrix)\n",
        "\n",
        "\n",
        "    # Reshaping the output to the desired size\n",
        "    output = output.reshape(-1, 1)\n",
        "\n",
        "    return output\n"
      ],
      "metadata": {
        "id": "9K_RGdFj5Qof"
      },
      "execution_count": 130,
      "outputs": []
    },
    {
      "cell_type": "code",
      "source": [],
      "metadata": {
        "id": "sznjYPJ4Cvwl"
      },
      "execution_count": null,
      "outputs": []
    },
    {
      "cell_type": "markdown",
      "source": [
        "# **Ques 6. Multilayer Perceptron (MLP) function:**"
      ],
      "metadata": {
        "id": "xdLh_Vuwai_G"
      }
    },
    {
      "cell_type": "markdown",
      "source": [
        "Defining the softmax function"
      ],
      "metadata": {
        "id": "WdZm_qXedW_E"
      }
    },
    {
      "cell_type": "code",
      "source": [
        "def softmax(x):\n",
        "    exp_x = np.exp(x)\n",
        "    return exp_x / np.sum(exp_x, axis=0)"
      ],
      "metadata": {
        "id": "aAAM9RRudRbL"
      },
      "execution_count": 131,
      "outputs": []
    },
    {
      "cell_type": "markdown",
      "source": [
        "Below is the implementation of the required *MLP* function\n",
        "\n",
        "Its input parameters are:\n",
        "\n",
        "* input_vector: A 1D numpy array, which is the output of flatten function.\n",
        "* num_hidden_layers: An integer specifying the number of hidden layers in the MLP.\n",
        "* hidden_layer_size: A list containing the number of neurons in each hidden layer.\n",
        "* activation_function: A non-linear activation function that gets applied to the output of each hidden layer.\n",
        "* output_layer_size: An integer specifying the number of neurons in the output layer.\n",
        "* softmax_output: A boolean flag indicating whether to apply the softmax function to the output layer. Default value is kept as True."
      ],
      "metadata": {
        "id": "BjY74L9efTNK"
      }
    },
    {
      "cell_type": "code",
      "source": [
        "def MLP(input_vector, num_hidden_layers, hidden_layer_size, activation_function, output_layer_size, softmax_output=True):\n",
        "    # Initializing weights and biases\n",
        "    weights = []\n",
        "    biases = []\n",
        "    num_inputs = input_vector.shape[0]\n",
        "    for i in range(num_hidden_layers):\n",
        "        if i == 0:\n",
        "            weights.append(np.random.randn(hidden_layer_size[i], num_inputs))\n",
        "        else:\n",
        "            weights.append(np.random.randn(hidden_layer_size[i], hidden_layer_size[i-1]))\n",
        "        biases.append(np.random.randn(hidden_layer_size[i], 1))\n",
        "    weights.append(np.random.randn(output_layer_size, hidden_layer_size[-1]))\n",
        "    biases.append(np.random.randn(output_layer_size, 1))\n",
        "\n",
        "    # Forward propagation\n",
        "    output = input_vector\n",
        "    for i in range(num_hidden_layers):\n",
        "        # Applying non-linearity to output volume\n",
        "        if activation_function == 'sigmoid':\n",
        "          output = sigmoid(np.dot(weights[i], output) + biases[i])\n",
        "        if activation_function == 'tanh':\n",
        "          output = tanh(np.dot(weights[i], output) + biases[i])\n",
        "        if activation_function == 'relu':\n",
        "          output = relu(np.dot(weights[i], output) + biases[i])\n",
        "        if activation_function == 'prelu':\n",
        "          output = prelu(np.dot(weights[i], output) + biases[i])\n",
        "\n",
        "    output = np.dot(weights[-1], output) + biases[-1]\n",
        "\n",
        "    # Checking if flag for softmax function is set for output layer \n",
        "    if softmax_output:\n",
        "        output = softmax(output)\n",
        "\n",
        "    return output\n"
      ],
      "metadata": {
        "id": "TsebYicldOW7"
      },
      "execution_count": 132,
      "outputs": []
    },
    {
      "cell_type": "code",
      "source": [],
      "metadata": {
        "id": "bnmfQg34eu7C"
      },
      "execution_count": null,
      "outputs": []
    },
    {
      "cell_type": "markdown",
      "source": [
        "# **Ques 7. Feed-forward path:**"
      ],
      "metadata": {
        "id": "IGSzPZVrGjKw"
      }
    },
    {
      "cell_type": "markdown",
      "source": [
        "**Loading the CIFAR-10 dataset**"
      ],
      "metadata": {
        "id": "uXxfkAFQf9aJ"
      }
    },
    {
      "cell_type": "code",
      "source": [
        "from tensorflow.keras.datasets import cifar10\n",
        "\n",
        "(x_train, y_train), (x_test, y_test) = cifar10.load_data()"
      ],
      "metadata": {
        "id": "llCL__OJhaja"
      },
      "execution_count": 133,
      "outputs": []
    },
    {
      "cell_type": "code",
      "source": [
        "import numpy as np\n",
        "print(np.unique(y_train))"
      ],
      "metadata": {
        "colab": {
          "base_uri": "https://localhost:8080/"
        },
        "id": "ZVVl5HKg-9wl",
        "outputId": "438c72d6-e3c2-4d2c-f333-57e96ec6d28e"
      },
      "execution_count": 134,
      "outputs": [
        {
          "output_type": "stream",
          "name": "stdout",
          "text": [
            "[0 1 2 3 4 5 6 7 8 9]\n"
          ]
        }
      ]
    },
    {
      "cell_type": "code",
      "source": [
        "print(x_train[0].shape)"
      ],
      "metadata": {
        "colab": {
          "base_uri": "https://localhost:8080/"
        },
        "id": "Qn6w-UNLbEk8",
        "outputId": "1d0dcce8-b0b3-4a2a-9614-1a40dd781ffe"
      },
      "execution_count": 135,
      "outputs": [
        {
          "output_type": "stream",
          "name": "stdout",
          "text": [
            "(32, 32, 3)\n"
          ]
        }
      ]
    },
    {
      "cell_type": "markdown",
      "source": [
        "**Implementing the feed forward path as a composition function** "
      ],
      "metadata": {
        "id": "x_xxiwkeIGr-"
      }
    },
    {
      "cell_type": "code",
      "source": [
        "def feed_forward(input_volume, return_flattening_layer_output=False):\n",
        "\n",
        "  # Applying 1st Convolution Layer\n",
        "\n",
        "  # Initializing convolution layer parameters\n",
        "  num_filters = 16\n",
        "  kernel_size = 3\n",
        "  stride = 1\n",
        "  padding = 1\n",
        "  non_linearity = 'sigmoid'\n",
        "\n",
        "  # Applying convolution layer function\n",
        "  input_volume, filter_kernels, output_activation_maps =  conv_layer(input_volume, num_filters, kernel_size, stride, padding, non_linearity)\n",
        "\n",
        "  # Displaying the input activation maps, the filter kernels and the output activation maps.\n",
        "  print('Shape of Input activation maps for conv layer 1: ', input_volume.shape) #shape = (32,32,3)\n",
        "  print('Shape of Filter kernels for conv layer 1: ', filter_kernels.shape) #shape = (3,3,3,16)\n",
        "  print('Shape of Output activation maps for conv layer 1: ', output_activation_maps.shape) #shape = (32,32,16)\n",
        "  print()\n",
        "\n",
        "\n",
        "  # Applying 1st Max Pooling Layer\n",
        "\n",
        "  # Apply max pooling with a pool size of 2 and stride of 2\n",
        "  pool_size = 2\n",
        "  stride = 2\n",
        "  input_volume, pooled_volume = pooling_layer(output_activation_maps, pool_size, stride)\n",
        "\n",
        "  #For displaying input and output volumes\n",
        "  print('Shape of Input volume for Max pooling layer 1: ', input_volume.shape) #shape = (32,32,16)\n",
        "  print('Shape of Output volume for Max pooling layer 1: ', pooled_volume.shape) #shape = (16,16,16)\n",
        "  print()\n",
        "\n",
        "\n",
        "  #Applying 2nd Convolution Layer\n",
        "\n",
        "  input_volume = pooled_volume\n",
        "  # Initializing convolution layer parameters\n",
        "  num_filters = 8\n",
        "  kernel_size = 3\n",
        "  stride = 1\n",
        "  padding = 1\n",
        "  non_linearity = 'sigmoid'\n",
        "\n",
        "  # Applying convolution layer function\n",
        "  input_volume, filter_kernels, output_activation_maps =  conv_layer(input_volume, num_filters, kernel_size, stride, padding, non_linearity)\n",
        "\n",
        "  # Displaying the input activation maps, the filter kernels and the output activation maps.\n",
        "  print('Shape of Input activation maps for conv layer 2: ', input_volume.shape) #shape = (16,16,16)\n",
        "  print('Shape of Filter kernels for conv layer 2: ', filter_kernels.shape) #shape = (3,3,16,8)\n",
        "  print('Shape of Output activation maps for conv layer 2: ', output_activation_maps.shape) #shape = (16,16,8)\n",
        "  print()\n",
        "\n",
        "\n",
        "  #Applying 2nd Max Pooling layer\n",
        "\n",
        "  # Apply max pooling with a pool size of 2 and stride of 2\n",
        "  pool_size = 2\n",
        "  stride = 2\n",
        "  input_volume, pooled_volume = pooling_layer(output_activation_maps, pool_size, stride)\n",
        "\n",
        "  #For displaying input and output volumes\n",
        "  print('Shape of Input volume for Max Pooling layer 2: ', input_volume.shape) #shape = (16,16,8)\n",
        "  print('Shape of Output volume for Max Pooling layer 2: ', pooled_volume.shape) #shape = (8,8,8)\n",
        "  print()\n",
        "\n",
        "\n",
        "  #Applying Global Average Pooling (GAP) layer\n",
        "\n",
        "  input_volume, pooled_volume = pooling_layer(pooled_volume, None, None, True)\n",
        "  #Note that pool size and stride not required for global average pooling\n",
        "\n",
        "  #For displaying input and output volumes\n",
        "  print('Shape of Input volume for GAP layer: ', input_volume.shape) #shape = (8,8,8)\n",
        "  print('Shape of Output volume for GAP layer: ', pooled_volume.shape) #dimension = (1,1,8)\n",
        "  print()\n",
        "\n",
        "\n",
        "  #Applying Flattening function\n",
        "\n",
        "  input_size = pooled_volume.shape[0] * pooled_volume.shape[1] * pooled_volume.shape[2] #height * width * depth \n",
        "  output_size = 1\n",
        "  #initializing the weight matrix\n",
        "  weight_matrix = np.random.randn(output_size, input_size)\n",
        "  # print(weight_matrix.shape)\n",
        "  flatten_output = flatten(pooled_volume, weight_matrix)\n",
        "  # print(flatten_output.shape)\n",
        "  if return_flattening_layer_output == True:\n",
        "    return flatten_output\n",
        "\n",
        "\n",
        "  # Applying MLP function\n",
        "\n",
        "  num_hidden_layers = 1\n",
        "  hidden_layer_size = [20]\n",
        "  activation_function = 'sigmoid'\n",
        "  output_layer_size = 10\n",
        "\n",
        "  output_with_softmax = MLP(flatten_output, num_hidden_layers, hidden_layer_size, activation_function, output_layer_size)\n",
        "  output_without_softmax = MLP(flatten_output, num_hidden_layers, hidden_layer_size, activation_function, output_layer_size, softmax_output=False)\n",
        "\n",
        "  return output_with_softmax, output_without_softmax\n",
        "\n"
      ],
      "metadata": {
        "id": "-QSHR7ZGZMkk"
      },
      "execution_count": 138,
      "outputs": []
    },
    {
      "cell_type": "code",
      "source": [
        "input_volume = x_train[0] #providing one image of cifar-10 dataset as input\n",
        "output_with_softmax, output_without_softmax = feed_forward(input_volume) \n",
        "print()\n",
        "print('Final output with softmax: ', output_with_softmax)\n",
        "print('Final output without softmax: ', output_without_softmax)"
      ],
      "metadata": {
        "colab": {
          "base_uri": "https://localhost:8080/"
        },
        "id": "ZVC8m7b58EF6",
        "outputId": "e24d799f-fa4f-4466-c738-7e612f535f0e"
      },
      "execution_count": 139,
      "outputs": [
        {
          "output_type": "stream",
          "name": "stdout",
          "text": [
            "Shape of Input activation maps for conv layer 1:  (32, 32, 3)\n",
            "Shape of Filter kernels for conv layer 1:  (3, 3, 3, 16)\n",
            "Shape of Output activation maps for conv layer 1:  (32, 32, 16)\n",
            "\n",
            "Shape of Input volume for Max pooling layer 1:  (32, 32, 16)\n",
            "Shape of Output volume for Max pooling layer 1:  (16, 16, 16)\n",
            "\n",
            "Shape of Input activation maps for conv layer 2:  (16, 16, 16)\n",
            "Shape of Filter kernels for conv layer 2:  (3, 3, 16, 8)\n",
            "Shape of Output activation maps for conv layer 2:  (16, 16, 8)\n",
            "\n",
            "Shape of Input volume for Max Pooling layer 2:  (16, 16, 8)\n",
            "Shape of Output volume for Max Pooling layer 2:  (8, 8, 8)\n",
            "\n",
            "Shape of Input volume for GAP layer:  (8, 8, 8)\n",
            "Shape of Output volume for GAP layer:  (1, 1, 8)\n",
            "\n",
            "\n",
            "Final output with softmax:  [[3.22870044e-02]\n",
            " [1.31988657e-05]\n",
            " [3.70875303e-03]\n",
            " [6.07071925e-03]\n",
            " [2.22181816e-02]\n",
            " [4.25388939e-01]\n",
            " [1.12468463e-05]\n",
            " [3.99880454e-01]\n",
            " [1.10359744e-01]\n",
            " [6.17593368e-05]]\n",
            "Final output without softmax:  [[-4.66437171]\n",
            " [-1.62790917]\n",
            " [ 5.27856583]\n",
            " [-2.48150771]\n",
            " [ 0.06299074]\n",
            " [-1.46107823]\n",
            " [ 1.3997514 ]\n",
            " [ 3.72788212]\n",
            " [ 3.98923987]\n",
            " [-0.22687935]]\n"
          ]
        }
      ]
    },
    {
      "cell_type": "code",
      "source": [],
      "metadata": {
        "id": "8VRfuzsas_Jt"
      },
      "execution_count": null,
      "outputs": []
    },
    {
      "cell_type": "markdown",
      "source": [
        "**Verifying dimensions of the output volume of convolution layer function:**\n",
        "\n",
        "As we can see above, output of the convolution layer functions have 3 dimensions. These dimensions represent H, W, C. So, we can say the\n",
        "output of this function have the expected size. (**verified**)"
      ],
      "metadata": {
        "id": "mdxGlagltCgU"
      }
    },
    {
      "cell_type": "code",
      "source": [],
      "metadata": {
        "id": "b-XHOS6DtBim"
      },
      "execution_count": null,
      "outputs": []
    },
    {
      "cell_type": "markdown",
      "source": [
        "**Verifying the feed_forward function accepts an image input and outputs a vector:**"
      ],
      "metadata": {
        "id": "q-w3PY7qt3ft"
      }
    },
    {
      "cell_type": "code",
      "source": [
        "plt.figure()\n",
        "plt.imshow(input_volume)\n",
        "plt.title('Input of feed forward path')\n",
        "plt.axis('off')\n",
        "plt.show()"
      ],
      "metadata": {
        "id": "KUZ_LpF8Zalt",
        "colab": {
          "base_uri": "https://localhost:8080/",
          "height": 264
        },
        "outputId": "21750fec-3081-46e3-f17e-c088eeb6c28b"
      },
      "execution_count": 69,
      "outputs": [
        {
          "output_type": "display_data",
          "data": {
            "text/plain": [
              "<Figure size 432x288 with 1 Axes>"
            ],
            "image/png": "[encoded data removed]"
          },
          "metadata": {
            "needs_background": "light"
          }
        }
      ]
    },
    {
      "cell_type": "markdown",
      "source": [
        "So, the input of the feed forward function is an image and also as visible above, the final output with/without softmax is a vector. So, clearly, we can see that the feed_forward function, which is composition of functions, accepts an image input and outputs a vector (**verified**)"
      ],
      "metadata": {
        "id": "PuDHgrFYsVEJ"
      }
    },
    {
      "cell_type": "code",
      "source": [],
      "metadata": {
        "id": "vJUwYK9xrd56"
      },
      "execution_count": null,
      "outputs": []
    },
    {
      "cell_type": "markdown",
      "source": [
        "# **Ques 8(a):**"
      ],
      "metadata": {
        "id": "OyhgG2SdGZIU"
      }
    },
    {
      "cell_type": "markdown",
      "source": [
        "**Choosing an image from each of the 10 classes and displaying the output vector for each case**."
      ],
      "metadata": {
        "id": "J49znLzOu4Oj"
      }
    },
    {
      "cell_type": "code",
      "source": [
        "vectors=[]\n",
        "\n",
        "# Defining the class names\n",
        "class_names = ['airplane', 'automobile', 'bird', 'cat', 'deer', 'dog', 'frog', 'horse', 'ship', 'truck']\n",
        "\n",
        "# Choosing a random image from each class of CIFAR-10 dataset\n",
        "for i in range(10):\n",
        "    # Find the index of a random image in the current class\n",
        "    idx = np.random.choice(np.where(y_train == i)[0])\n",
        "    \n",
        "    # Selecting the image\n",
        "    img = x_train[idx]\n",
        "\n",
        "    print('For image of class ',i+1,': \\n')\n",
        "    output_with_softmax, output_without_softmax = feed_forward(img)\n",
        "    vectors.append(output_with_softmax)"
      ],
      "metadata": {
        "colab": {
          "base_uri": "https://localhost:8080/"
        },
        "id": "UA4liNqsGoA3",
        "outputId": "4235c146-3ed1-4799-9e7f-6706433b55c2"
      },
      "execution_count": 141,
      "outputs": [
        {
          "output_type": "stream",
          "name": "stdout",
          "text": [
            "For image of class  1 : \n",
            "\n",
            "Shape of Input activation maps for conv layer 1:  (32, 32, 3)\n",
            "Shape of Filter kernels for conv layer 1:  (3, 3, 3, 16)\n",
            "Shape of Output activation maps for conv layer 1:  (32, 32, 16)\n",
            "\n",
            "Shape of Input volume for Max pooling layer 1:  (32, 32, 16)\n",
            "Shape of Output volume for Max pooling layer 1:  (16, 16, 16)\n",
            "\n",
            "Shape of Input activation maps for conv layer 2:  (16, 16, 16)\n",
            "Shape of Filter kernels for conv layer 2:  (3, 3, 16, 8)\n",
            "Shape of Output activation maps for conv layer 2:  (16, 16, 8)\n",
            "\n",
            "Shape of Input volume for Max Pooling layer 2:  (16, 16, 8)\n",
            "Shape of Output volume for Max Pooling layer 2:  (8, 8, 8)\n",
            "\n",
            "Shape of Input volume for GAP layer:  (8, 8, 8)\n",
            "Shape of Output volume for GAP layer:  (1, 1, 8)\n",
            "\n",
            "For image of class  2 : \n",
            "\n",
            "Shape of Input activation maps for conv layer 1:  (32, 32, 3)\n",
            "Shape of Filter kernels for conv layer 1:  (3, 3, 3, 16)\n",
            "Shape of Output activation maps for conv layer 1:  (32, 32, 16)\n",
            "\n",
            "Shape of Input volume for Max pooling layer 1:  (32, 32, 16)\n",
            "Shape of Output volume for Max pooling layer 1:  (16, 16, 16)\n",
            "\n",
            "Shape of Input activation maps for conv layer 2:  (16, 16, 16)\n",
            "Shape of Filter kernels for conv layer 2:  (3, 3, 16, 8)\n",
            "Shape of Output activation maps for conv layer 2:  (16, 16, 8)\n",
            "\n",
            "Shape of Input volume for Max Pooling layer 2:  (16, 16, 8)\n",
            "Shape of Output volume for Max Pooling layer 2:  (8, 8, 8)\n",
            "\n",
            "Shape of Input volume for GAP layer:  (8, 8, 8)\n",
            "Shape of Output volume for GAP layer:  (1, 1, 8)\n",
            "\n",
            "For image of class  3 : \n",
            "\n",
            "Shape of Input activation maps for conv layer 1:  (32, 32, 3)\n",
            "Shape of Filter kernels for conv layer 1:  (3, 3, 3, 16)\n",
            "Shape of Output activation maps for conv layer 1:  (32, 32, 16)\n",
            "\n",
            "Shape of Input volume for Max pooling layer 1:  (32, 32, 16)\n",
            "Shape of Output volume for Max pooling layer 1:  (16, 16, 16)\n",
            "\n",
            "Shape of Input activation maps for conv layer 2:  (16, 16, 16)\n",
            "Shape of Filter kernels for conv layer 2:  (3, 3, 16, 8)\n",
            "Shape of Output activation maps for conv layer 2:  (16, 16, 8)\n",
            "\n",
            "Shape of Input volume for Max Pooling layer 2:  (16, 16, 8)\n",
            "Shape of Output volume for Max Pooling layer 2:  (8, 8, 8)\n",
            "\n",
            "Shape of Input volume for GAP layer:  (8, 8, 8)\n",
            "Shape of Output volume for GAP layer:  (1, 1, 8)\n",
            "\n",
            "For image of class  4 : \n",
            "\n",
            "Shape of Input activation maps for conv layer 1:  (32, 32, 3)\n",
            "Shape of Filter kernels for conv layer 1:  (3, 3, 3, 16)\n",
            "Shape of Output activation maps for conv layer 1:  (32, 32, 16)\n",
            "\n",
            "Shape of Input volume for Max pooling layer 1:  (32, 32, 16)\n",
            "Shape of Output volume for Max pooling layer 1:  (16, 16, 16)\n",
            "\n",
            "Shape of Input activation maps for conv layer 2:  (16, 16, 16)\n",
            "Shape of Filter kernels for conv layer 2:  (3, 3, 16, 8)\n",
            "Shape of Output activation maps for conv layer 2:  (16, 16, 8)\n",
            "\n",
            "Shape of Input volume for Max Pooling layer 2:  (16, 16, 8)\n",
            "Shape of Output volume for Max Pooling layer 2:  (8, 8, 8)\n",
            "\n",
            "Shape of Input volume for GAP layer:  (8, 8, 8)\n",
            "Shape of Output volume for GAP layer:  (1, 1, 8)\n",
            "\n",
            "For image of class  5 : \n",
            "\n",
            "Shape of Input activation maps for conv layer 1:  (32, 32, 3)\n",
            "Shape of Filter kernels for conv layer 1:  (3, 3, 3, 16)\n",
            "Shape of Output activation maps for conv layer 1:  (32, 32, 16)\n",
            "\n",
            "Shape of Input volume for Max pooling layer 1:  (32, 32, 16)\n",
            "Shape of Output volume for Max pooling layer 1:  (16, 16, 16)\n",
            "\n",
            "Shape of Input activation maps for conv layer 2:  (16, 16, 16)\n",
            "Shape of Filter kernels for conv layer 2:  (3, 3, 16, 8)\n",
            "Shape of Output activation maps for conv layer 2:  (16, 16, 8)\n",
            "\n",
            "Shape of Input volume for Max Pooling layer 2:  (16, 16, 8)\n",
            "Shape of Output volume for Max Pooling layer 2:  (8, 8, 8)\n",
            "\n",
            "Shape of Input volume for GAP layer:  (8, 8, 8)\n",
            "Shape of Output volume for GAP layer:  (1, 1, 8)\n",
            "\n",
            "For image of class  6 : \n",
            "\n",
            "Shape of Input activation maps for conv layer 1:  (32, 32, 3)\n",
            "Shape of Filter kernels for conv layer 1:  (3, 3, 3, 16)\n",
            "Shape of Output activation maps for conv layer 1:  (32, 32, 16)\n",
            "\n",
            "Shape of Input volume for Max pooling layer 1:  (32, 32, 16)\n",
            "Shape of Output volume for Max pooling layer 1:  (16, 16, 16)\n",
            "\n",
            "Shape of Input activation maps for conv layer 2:  (16, 16, 16)\n",
            "Shape of Filter kernels for conv layer 2:  (3, 3, 16, 8)\n",
            "Shape of Output activation maps for conv layer 2:  (16, 16, 8)\n",
            "\n",
            "Shape of Input volume for Max Pooling layer 2:  (16, 16, 8)\n",
            "Shape of Output volume for Max Pooling layer 2:  (8, 8, 8)\n",
            "\n",
            "Shape of Input volume for GAP layer:  (8, 8, 8)\n",
            "Shape of Output volume for GAP layer:  (1, 1, 8)\n",
            "\n",
            "For image of class  7 : \n",
            "\n",
            "Shape of Input activation maps for conv layer 1:  (32, 32, 3)\n",
            "Shape of Filter kernels for conv layer 1:  (3, 3, 3, 16)\n",
            "Shape of Output activation maps for conv layer 1:  (32, 32, 16)\n",
            "\n",
            "Shape of Input volume for Max pooling layer 1:  (32, 32, 16)\n",
            "Shape of Output volume for Max pooling layer 1:  (16, 16, 16)\n",
            "\n",
            "Shape of Input activation maps for conv layer 2:  (16, 16, 16)\n",
            "Shape of Filter kernels for conv layer 2:  (3, 3, 16, 8)\n",
            "Shape of Output activation maps for conv layer 2:  (16, 16, 8)\n",
            "\n",
            "Shape of Input volume for Max Pooling layer 2:  (16, 16, 8)\n",
            "Shape of Output volume for Max Pooling layer 2:  (8, 8, 8)\n",
            "\n",
            "Shape of Input volume for GAP layer:  (8, 8, 8)\n",
            "Shape of Output volume for GAP layer:  (1, 1, 8)\n",
            "\n",
            "For image of class  8 : \n",
            "\n",
            "Shape of Input activation maps for conv layer 1:  (32, 32, 3)\n",
            "Shape of Filter kernels for conv layer 1:  (3, 3, 3, 16)\n",
            "Shape of Output activation maps for conv layer 1:  (32, 32, 16)\n",
            "\n",
            "Shape of Input volume for Max pooling layer 1:  (32, 32, 16)\n",
            "Shape of Output volume for Max pooling layer 1:  (16, 16, 16)\n",
            "\n",
            "Shape of Input activation maps for conv layer 2:  (16, 16, 16)\n",
            "Shape of Filter kernels for conv layer 2:  (3, 3, 16, 8)\n",
            "Shape of Output activation maps for conv layer 2:  (16, 16, 8)\n",
            "\n",
            "Shape of Input volume for Max Pooling layer 2:  (16, 16, 8)\n",
            "Shape of Output volume for Max Pooling layer 2:  (8, 8, 8)\n",
            "\n",
            "Shape of Input volume for GAP layer:  (8, 8, 8)\n",
            "Shape of Output volume for GAP layer:  (1, 1, 8)\n",
            "\n",
            "For image of class  9 : \n",
            "\n",
            "Shape of Input activation maps for conv layer 1:  (32, 32, 3)\n",
            "Shape of Filter kernels for conv layer 1:  (3, 3, 3, 16)\n",
            "Shape of Output activation maps for conv layer 1:  (32, 32, 16)\n",
            "\n",
            "Shape of Input volume for Max pooling layer 1:  (32, 32, 16)\n",
            "Shape of Output volume for Max pooling layer 1:  (16, 16, 16)\n",
            "\n",
            "Shape of Input activation maps for conv layer 2:  (16, 16, 16)\n",
            "Shape of Filter kernels for conv layer 2:  (3, 3, 16, 8)\n",
            "Shape of Output activation maps for conv layer 2:  (16, 16, 8)\n",
            "\n",
            "Shape of Input volume for Max Pooling layer 2:  (16, 16, 8)\n",
            "Shape of Output volume for Max Pooling layer 2:  (8, 8, 8)\n",
            "\n",
            "Shape of Input volume for GAP layer:  (8, 8, 8)\n",
            "Shape of Output volume for GAP layer:  (1, 1, 8)\n",
            "\n",
            "For image of class  10 : \n",
            "\n",
            "Shape of Input activation maps for conv layer 1:  (32, 32, 3)\n",
            "Shape of Filter kernels for conv layer 1:  (3, 3, 3, 16)\n",
            "Shape of Output activation maps for conv layer 1:  (32, 32, 16)\n",
            "\n",
            "Shape of Input volume for Max pooling layer 1:  (32, 32, 16)\n",
            "Shape of Output volume for Max pooling layer 1:  (16, 16, 16)\n",
            "\n",
            "Shape of Input activation maps for conv layer 2:  (16, 16, 16)\n",
            "Shape of Filter kernels for conv layer 2:  (3, 3, 16, 8)\n",
            "Shape of Output activation maps for conv layer 2:  (16, 16, 8)\n",
            "\n",
            "Shape of Input volume for Max Pooling layer 2:  (16, 16, 8)\n",
            "Shape of Output volume for Max Pooling layer 2:  (8, 8, 8)\n",
            "\n",
            "Shape of Input volume for GAP layer:  (8, 8, 8)\n",
            "Shape of Output volume for GAP layer:  (1, 1, 8)\n",
            "\n"
          ]
        }
      ]
    },
    {
      "cell_type": "markdown",
      "source": [
        "**Displaying the output vectors with softmax for all 10 classes of cifar-10**"
      ],
      "metadata": {
        "id": "b_y8zuSoBfRk"
      }
    },
    {
      "cell_type": "code",
      "source": [
        "for i in range(0,len(vectors)):\n",
        "  print('Output vector a random image of class ',i+1,': \\n')\n",
        "  print(vectors[i])\n",
        "  print()"
      ],
      "metadata": {
        "colab": {
          "base_uri": "https://localhost:8080/"
        },
        "id": "KiqC0eNwBd-l",
        "outputId": "234bf858-bb2f-4133-c738-837b0dffb343"
      },
      "execution_count": 143,
      "outputs": [
        {
          "output_type": "stream",
          "name": "stdout",
          "text": [
            "Output vector a random image of class  1 : \n",
            "\n",
            "[[4.53173200e-04]\n",
            " [9.33453218e-03]\n",
            " [4.50906117e-03]\n",
            " [1.29762813e-03]\n",
            " [3.81311596e-01]\n",
            " [5.67600819e-01]\n",
            " [2.71821786e-03]\n",
            " [9.50062070e-03]\n",
            " [1.93513452e-03]\n",
            " [2.13392175e-02]]\n",
            "\n",
            "Output vector a random image of class  2 : \n",
            "\n",
            "[[2.21599494e-04]\n",
            " [2.42134731e-01]\n",
            " [6.83142470e-03]\n",
            " [1.78298725e-02]\n",
            " [2.59364215e-03]\n",
            " [3.94189700e-03]\n",
            " [2.38986224e-03]\n",
            " [6.38384018e-03]\n",
            " [7.08305120e-01]\n",
            " [9.36801067e-03]]\n",
            "\n",
            "Output vector a random image of class  3 : \n",
            "\n",
            "[[0.32732561]\n",
            " [0.07526087]\n",
            " [0.08017217]\n",
            " [0.2080278 ]\n",
            " [0.06204662]\n",
            " [0.07630189]\n",
            " [0.00174845]\n",
            " [0.03919961]\n",
            " [0.04888429]\n",
            " [0.0810327 ]]\n",
            "\n",
            "Output vector a random image of class  4 : \n",
            "\n",
            "[[2.88858471e-02]\n",
            " [4.23475784e-01]\n",
            " [1.76051479e-03]\n",
            " [8.75413689e-02]\n",
            " [2.47374226e-03]\n",
            " [8.83324927e-05]\n",
            " [9.82493737e-02]\n",
            " [5.24128286e-05]\n",
            " [3.56972197e-01]\n",
            " [5.00426813e-04]]\n",
            "\n",
            "Output vector a random image of class  5 : \n",
            "\n",
            "[[7.30888393e-04]\n",
            " [2.69126360e-02]\n",
            " [1.84496471e-01]\n",
            " [7.02936220e-03]\n",
            " [2.65593539e-03]\n",
            " [1.67303172e-04]\n",
            " [1.14509913e-03]\n",
            " [7.64795354e-01]\n",
            " [1.17791508e-02]\n",
            " [2.87798997e-04]]\n",
            "\n",
            "Output vector a random image of class  6 : \n",
            "\n",
            "[[3.61327320e-04]\n",
            " [6.63772831e-01]\n",
            " [2.88661703e-08]\n",
            " [7.18428489e-06]\n",
            " [6.17117657e-02]\n",
            " [2.64354573e-01]\n",
            " [2.01442434e-05]\n",
            " [1.34742701e-04]\n",
            " [9.48542646e-03]\n",
            " [1.51976856e-04]]\n",
            "\n",
            "Output vector a random image of class  7 : \n",
            "\n",
            "[[1.87843456e-02]\n",
            " [1.35523335e-03]\n",
            " [9.43930493e-02]\n",
            " [1.21672673e-04]\n",
            " [4.63445719e-03]\n",
            " [7.57776848e-01]\n",
            " [2.84479322e-02]\n",
            " [9.42314448e-02]\n",
            " [1.26195362e-05]\n",
            " [2.42397682e-04]]\n",
            "\n",
            "Output vector a random image of class  8 : \n",
            "\n",
            "[[2.42361036e-01]\n",
            " [1.12182475e-02]\n",
            " [7.02200110e-01]\n",
            " [2.21241890e-03]\n",
            " [5.96372722e-03]\n",
            " [1.90225077e-02]\n",
            " [7.33768415e-04]\n",
            " [9.50861538e-04]\n",
            " [7.05900964e-05]\n",
            " [1.52667329e-02]]\n",
            "\n",
            "Output vector a random image of class  9 : \n",
            "\n",
            "[[1.38498952e-03]\n",
            " [1.72733952e-01]\n",
            " [2.23399989e-02]\n",
            " [3.57382606e-01]\n",
            " [4.38126543e-02]\n",
            " [7.08242779e-02]\n",
            " [4.48852593e-02]\n",
            " [1.68235143e-03]\n",
            " [2.17497915e-05]\n",
            " [2.84932161e-01]]\n",
            "\n",
            "Output vector a random image of class  10 : \n",
            "\n",
            "[[4.15815519e-05]\n",
            " [2.28413462e-02]\n",
            " [1.11857639e-04]\n",
            " [5.11193329e-05]\n",
            " [2.74420335e-03]\n",
            " [6.24759543e-05]\n",
            " [1.15412868e-06]\n",
            " [1.71977722e-03]\n",
            " [9.70860157e-01]\n",
            " [1.56632792e-03]]\n",
            "\n"
          ]
        }
      ]
    },
    {
      "cell_type": "markdown",
      "source": [
        "**Trend in the output vectors:**\n",
        "* The output vectors generated using softmax have values between 0 and 1, and their sum is always equal to 1.\n",
        "* Also, it seems like the output vector places higher probabilities on the classes that the model considers more likely given the input data."
      ],
      "metadata": {
        "id": "sxc41WcNRq7u"
      }
    },
    {
      "cell_type": "code",
      "source": [],
      "metadata": {
        "id": "8Dx1kBTESHIF"
      },
      "execution_count": null,
      "outputs": []
    },
    {
      "cell_type": "markdown",
      "source": [
        "# **Ques 8.(b):**"
      ],
      "metadata": {
        "id": "nqnJGCvTSHTn"
      }
    },
    {
      "cell_type": "markdown",
      "source": [
        "**Q)** Does a randomly initialized network show any discriminability?\n",
        "\n",
        "**Ans:** As the network's weights and biases have not yet been trained to extract features and categorise input data, a convolutional neural network (CNN) that has been randomly initialized often does not exhibit any meaningful discriminability.\n",
        "\n",
        "When a CNN is initialized randomly, its weights and biases are frequently initialised with small random values, which lack any intrinsic capacity to distinguish between various input data classes. Hence, the CNN's output on any input data would be random and useless for categorization.\n",
        "\n",
        "However, a randomly initialized CNN can still have some degree of discriminability due to the nonlinearity of the activation functions used in the network. The activation functions used in a CNN, such as ReLU or sigmoid, introduce nonlinearity into the network and allow it to learn complex patterns in the data. While the network's weights and biases are initially random, the activation functions can still enable the network to extract some discriminative features from the input data.\n",
        "\n",
        "But the overall discriminability of a randomly initialized CNN is generally poor. In order for the network to acquire useful features and achieve high accuracy in classification tasks, a significant amount of labelled data would need to be used during training."
      ],
      "metadata": {
        "id": "VEh7v_22SZFE"
      }
    },
    {
      "cell_type": "code",
      "source": [],
      "metadata": {
        "id": "3hY3reivSMcP"
      },
      "execution_count": null,
      "outputs": []
    },
    {
      "cell_type": "markdown",
      "source": [
        "**Plotting the bottleneck layer (output of flattening layer) using PCA (builtin function) in 2D by choosing three images per class from CIFAR-10.**"
      ],
      "metadata": {
        "id": "YM2Fj09nZNT5"
      }
    },
    {
      "cell_type": "code",
      "source": [
        "# Selecting three images per class from CIFAR-10 dataset\n",
        "class_names = ['airplane', 'automobile', 'bird', 'cat', 'deer', 'dog', 'frog', 'horse', 'ship', 'truck']\n",
        "\n",
        "num_images_per_class = 3\n",
        "selected_images = []\n",
        "for i in range(10):\n",
        "    class_indices = np.where(y_train == i)[0][:num_images_per_class]\n",
        "    selected_images.append(x_train[class_indices])\n",
        "    \n",
        "selected_images = np.concatenate(selected_images, axis=0)\n",
        "print(selected_images.shape) #(30, 32, 32, 3)"
      ],
      "metadata": {
        "colab": {
          "base_uri": "https://localhost:8080/"
        },
        "id": "f8rC3cE3fgw9",
        "outputId": "cf89b21b-fb83-4379-850e-0b118dbe13f0"
      },
      "execution_count": 144,
      "outputs": [
        {
          "output_type": "stream",
          "name": "stdout",
          "text": [
            "(30, 32, 32, 3)\n"
          ]
        }
      ]
    },
    {
      "cell_type": "code",
      "source": [
        "flatten_vectors=[]\n",
        "\n",
        "for i in range(0,len(selected_images)):\n",
        "\n",
        "    print('For image ',i+1,': \\n')\n",
        "    flatten_output = feed_forward(selected_images[i],True)\n",
        "    flatten_vectors.append(flatten_output)\n",
        "   "
      ],
      "metadata": {
        "colab": {
          "base_uri": "https://localhost:8080/"
        },
        "id": "X6azRSleiJQT",
        "outputId": "6eb6cd72-fa88-4d7e-fee8-91f4a3a504d6"
      },
      "execution_count": 146,
      "outputs": [
        {
          "output_type": "stream",
          "name": "stdout",
          "text": [
            "For image  1 : \n",
            "\n",
            "Shape of Input activation maps for conv layer 1:  (32, 32, 3)\n",
            "Shape of Filter kernels for conv layer 1:  (3, 3, 3, 16)\n",
            "Shape of Output activation maps for conv layer 1:  (32, 32, 16)\n",
            "\n",
            "Shape of Input volume for Max pooling layer 1:  (32, 32, 16)\n",
            "Shape of Output volume for Max pooling layer 1:  (16, 16, 16)\n",
            "\n",
            "Shape of Input activation maps for conv layer 2:  (16, 16, 16)\n",
            "Shape of Filter kernels for conv layer 2:  (3, 3, 16, 8)\n",
            "Shape of Output activation maps for conv layer 2:  (16, 16, 8)\n",
            "\n",
            "Shape of Input volume for Max Pooling layer 2:  (16, 16, 8)\n",
            "Shape of Output volume for Max Pooling layer 2:  (8, 8, 8)\n",
            "\n",
            "Shape of Input volume for GAP layer:  (8, 8, 8)\n",
            "Shape of Output volume for GAP layer:  (1, 1, 8)\n",
            "\n",
            "For image  2 : \n",
            "\n",
            "Shape of Input activation maps for conv layer 1:  (32, 32, 3)\n",
            "Shape of Filter kernels for conv layer 1:  (3, 3, 3, 16)\n",
            "Shape of Output activation maps for conv layer 1:  (32, 32, 16)\n",
            "\n",
            "Shape of Input volume for Max pooling layer 1:  (32, 32, 16)\n",
            "Shape of Output volume for Max pooling layer 1:  (16, 16, 16)\n",
            "\n",
            "Shape of Input activation maps for conv layer 2:  (16, 16, 16)\n",
            "Shape of Filter kernels for conv layer 2:  (3, 3, 16, 8)\n",
            "Shape of Output activation maps for conv layer 2:  (16, 16, 8)\n",
            "\n",
            "Shape of Input volume for Max Pooling layer 2:  (16, 16, 8)\n",
            "Shape of Output volume for Max Pooling layer 2:  (8, 8, 8)\n",
            "\n",
            "Shape of Input volume for GAP layer:  (8, 8, 8)\n",
            "Shape of Output volume for GAP layer:  (1, 1, 8)\n",
            "\n",
            "For image  3 : \n",
            "\n",
            "Shape of Input activation maps for conv layer 1:  (32, 32, 3)\n",
            "Shape of Filter kernels for conv layer 1:  (3, 3, 3, 16)\n",
            "Shape of Output activation maps for conv layer 1:  (32, 32, 16)\n",
            "\n",
            "Shape of Input volume for Max pooling layer 1:  (32, 32, 16)\n",
            "Shape of Output volume for Max pooling layer 1:  (16, 16, 16)\n",
            "\n",
            "Shape of Input activation maps for conv layer 2:  (16, 16, 16)\n",
            "Shape of Filter kernels for conv layer 2:  (3, 3, 16, 8)\n",
            "Shape of Output activation maps for conv layer 2:  (16, 16, 8)\n",
            "\n",
            "Shape of Input volume for Max Pooling layer 2:  (16, 16, 8)\n",
            "Shape of Output volume for Max Pooling layer 2:  (8, 8, 8)\n",
            "\n",
            "Shape of Input volume for GAP layer:  (8, 8, 8)\n",
            "Shape of Output volume for GAP layer:  (1, 1, 8)\n",
            "\n",
            "For image  4 : \n",
            "\n",
            "Shape of Input activation maps for conv layer 1:  (32, 32, 3)\n",
            "Shape of Filter kernels for conv layer 1:  (3, 3, 3, 16)\n",
            "Shape of Output activation maps for conv layer 1:  (32, 32, 16)\n",
            "\n",
            "Shape of Input volume for Max pooling layer 1:  (32, 32, 16)\n",
            "Shape of Output volume for Max pooling layer 1:  (16, 16, 16)\n",
            "\n",
            "Shape of Input activation maps for conv layer 2:  (16, 16, 16)\n",
            "Shape of Filter kernels for conv layer 2:  (3, 3, 16, 8)\n",
            "Shape of Output activation maps for conv layer 2:  (16, 16, 8)\n",
            "\n",
            "Shape of Input volume for Max Pooling layer 2:  (16, 16, 8)\n",
            "Shape of Output volume for Max Pooling layer 2:  (8, 8, 8)\n",
            "\n",
            "Shape of Input volume for GAP layer:  (8, 8, 8)\n",
            "Shape of Output volume for GAP layer:  (1, 1, 8)\n",
            "\n",
            "For image  5 : \n",
            "\n",
            "Shape of Input activation maps for conv layer 1:  (32, 32, 3)\n",
            "Shape of Filter kernels for conv layer 1:  (3, 3, 3, 16)\n",
            "Shape of Output activation maps for conv layer 1:  (32, 32, 16)\n",
            "\n",
            "Shape of Input volume for Max pooling layer 1:  (32, 32, 16)\n",
            "Shape of Output volume for Max pooling layer 1:  (16, 16, 16)\n",
            "\n",
            "Shape of Input activation maps for conv layer 2:  (16, 16, 16)\n",
            "Shape of Filter kernels for conv layer 2:  (3, 3, 16, 8)\n",
            "Shape of Output activation maps for conv layer 2:  (16, 16, 8)\n",
            "\n",
            "Shape of Input volume for Max Pooling layer 2:  (16, 16, 8)\n",
            "Shape of Output volume for Max Pooling layer 2:  (8, 8, 8)\n",
            "\n",
            "Shape of Input volume for GAP layer:  (8, 8, 8)\n",
            "Shape of Output volume for GAP layer:  (1, 1, 8)\n",
            "\n",
            "For image  6 : \n",
            "\n",
            "Shape of Input activation maps for conv layer 1:  (32, 32, 3)\n",
            "Shape of Filter kernels for conv layer 1:  (3, 3, 3, 16)\n",
            "Shape of Output activation maps for conv layer 1:  (32, 32, 16)\n",
            "\n",
            "Shape of Input volume for Max pooling layer 1:  (32, 32, 16)\n",
            "Shape of Output volume for Max pooling layer 1:  (16, 16, 16)\n",
            "\n",
            "Shape of Input activation maps for conv layer 2:  (16, 16, 16)\n",
            "Shape of Filter kernels for conv layer 2:  (3, 3, 16, 8)\n",
            "Shape of Output activation maps for conv layer 2:  (16, 16, 8)\n",
            "\n",
            "Shape of Input volume for Max Pooling layer 2:  (16, 16, 8)\n",
            "Shape of Output volume for Max Pooling layer 2:  (8, 8, 8)\n",
            "\n",
            "Shape of Input volume for GAP layer:  (8, 8, 8)\n",
            "Shape of Output volume for GAP layer:  (1, 1, 8)\n",
            "\n",
            "For image  7 : \n",
            "\n",
            "Shape of Input activation maps for conv layer 1:  (32, 32, 3)\n",
            "Shape of Filter kernels for conv layer 1:  (3, 3, 3, 16)\n",
            "Shape of Output activation maps for conv layer 1:  (32, 32, 16)\n",
            "\n",
            "Shape of Input volume for Max pooling layer 1:  (32, 32, 16)\n",
            "Shape of Output volume for Max pooling layer 1:  (16, 16, 16)\n",
            "\n",
            "Shape of Input activation maps for conv layer 2:  (16, 16, 16)\n",
            "Shape of Filter kernels for conv layer 2:  (3, 3, 16, 8)\n",
            "Shape of Output activation maps for conv layer 2:  (16, 16, 8)\n",
            "\n",
            "Shape of Input volume for Max Pooling layer 2:  (16, 16, 8)\n",
            "Shape of Output volume for Max Pooling layer 2:  (8, 8, 8)\n",
            "\n",
            "Shape of Input volume for GAP layer:  (8, 8, 8)\n",
            "Shape of Output volume for GAP layer:  (1, 1, 8)\n",
            "\n",
            "For image  8 : \n",
            "\n",
            "Shape of Input activation maps for conv layer 1:  (32, 32, 3)\n",
            "Shape of Filter kernels for conv layer 1:  (3, 3, 3, 16)\n",
            "Shape of Output activation maps for conv layer 1:  (32, 32, 16)\n",
            "\n",
            "Shape of Input volume for Max pooling layer 1:  (32, 32, 16)\n",
            "Shape of Output volume for Max pooling layer 1:  (16, 16, 16)\n",
            "\n",
            "Shape of Input activation maps for conv layer 2:  (16, 16, 16)\n",
            "Shape of Filter kernels for conv layer 2:  (3, 3, 16, 8)\n",
            "Shape of Output activation maps for conv layer 2:  (16, 16, 8)\n",
            "\n",
            "Shape of Input volume for Max Pooling layer 2:  (16, 16, 8)\n",
            "Shape of Output volume for Max Pooling layer 2:  (8, 8, 8)\n",
            "\n",
            "Shape of Input volume for GAP layer:  (8, 8, 8)\n",
            "Shape of Output volume for GAP layer:  (1, 1, 8)\n",
            "\n",
            "For image  9 : \n",
            "\n",
            "Shape of Input activation maps for conv layer 1:  (32, 32, 3)\n",
            "Shape of Filter kernels for conv layer 1:  (3, 3, 3, 16)\n",
            "Shape of Output activation maps for conv layer 1:  (32, 32, 16)\n",
            "\n",
            "Shape of Input volume for Max pooling layer 1:  (32, 32, 16)\n",
            "Shape of Output volume for Max pooling layer 1:  (16, 16, 16)\n",
            "\n",
            "Shape of Input activation maps for conv layer 2:  (16, 16, 16)\n",
            "Shape of Filter kernels for conv layer 2:  (3, 3, 16, 8)\n",
            "Shape of Output activation maps for conv layer 2:  (16, 16, 8)\n",
            "\n",
            "Shape of Input volume for Max Pooling layer 2:  (16, 16, 8)\n",
            "Shape of Output volume for Max Pooling layer 2:  (8, 8, 8)\n",
            "\n",
            "Shape of Input volume for GAP layer:  (8, 8, 8)\n",
            "Shape of Output volume for GAP layer:  (1, 1, 8)\n",
            "\n",
            "For image  10 : \n",
            "\n",
            "Shape of Input activation maps for conv layer 1:  (32, 32, 3)\n",
            "Shape of Filter kernels for conv layer 1:  (3, 3, 3, 16)\n",
            "Shape of Output activation maps for conv layer 1:  (32, 32, 16)\n",
            "\n",
            "Shape of Input volume for Max pooling layer 1:  (32, 32, 16)\n",
            "Shape of Output volume for Max pooling layer 1:  (16, 16, 16)\n",
            "\n",
            "Shape of Input activation maps for conv layer 2:  (16, 16, 16)\n",
            "Shape of Filter kernels for conv layer 2:  (3, 3, 16, 8)\n",
            "Shape of Output activation maps for conv layer 2:  (16, 16, 8)\n",
            "\n",
            "Shape of Input volume for Max Pooling layer 2:  (16, 16, 8)\n",
            "Shape of Output volume for Max Pooling layer 2:  (8, 8, 8)\n",
            "\n",
            "Shape of Input volume for GAP layer:  (8, 8, 8)\n",
            "Shape of Output volume for GAP layer:  (1, 1, 8)\n",
            "\n",
            "For image  11 : \n",
            "\n",
            "Shape of Input activation maps for conv layer 1:  (32, 32, 3)\n",
            "Shape of Filter kernels for conv layer 1:  (3, 3, 3, 16)\n",
            "Shape of Output activation maps for conv layer 1:  (32, 32, 16)\n",
            "\n",
            "Shape of Input volume for Max pooling layer 1:  (32, 32, 16)\n",
            "Shape of Output volume for Max pooling layer 1:  (16, 16, 16)\n",
            "\n",
            "Shape of Input activation maps for conv layer 2:  (16, 16, 16)\n",
            "Shape of Filter kernels for conv layer 2:  (3, 3, 16, 8)\n",
            "Shape of Output activation maps for conv layer 2:  (16, 16, 8)\n",
            "\n",
            "Shape of Input volume for Max Pooling layer 2:  (16, 16, 8)\n",
            "Shape of Output volume for Max Pooling layer 2:  (8, 8, 8)\n",
            "\n",
            "Shape of Input volume for GAP layer:  (8, 8, 8)\n",
            "Shape of Output volume for GAP layer:  (1, 1, 8)\n",
            "\n",
            "For image  12 : \n",
            "\n",
            "Shape of Input activation maps for conv layer 1:  (32, 32, 3)\n",
            "Shape of Filter kernels for conv layer 1:  (3, 3, 3, 16)\n",
            "Shape of Output activation maps for conv layer 1:  (32, 32, 16)\n",
            "\n",
            "Shape of Input volume for Max pooling layer 1:  (32, 32, 16)\n",
            "Shape of Output volume for Max pooling layer 1:  (16, 16, 16)\n",
            "\n",
            "Shape of Input activation maps for conv layer 2:  (16, 16, 16)\n",
            "Shape of Filter kernels for conv layer 2:  (3, 3, 16, 8)\n",
            "Shape of Output activation maps for conv layer 2:  (16, 16, 8)\n",
            "\n",
            "Shape of Input volume for Max Pooling layer 2:  (16, 16, 8)\n",
            "Shape of Output volume for Max Pooling layer 2:  (8, 8, 8)\n",
            "\n",
            "Shape of Input volume for GAP layer:  (8, 8, 8)\n",
            "Shape of Output volume for GAP layer:  (1, 1, 8)\n",
            "\n",
            "For image  13 : \n",
            "\n",
            "Shape of Input activation maps for conv layer 1:  (32, 32, 3)\n",
            "Shape of Filter kernels for conv layer 1:  (3, 3, 3, 16)\n",
            "Shape of Output activation maps for conv layer 1:  (32, 32, 16)\n",
            "\n",
            "Shape of Input volume for Max pooling layer 1:  (32, 32, 16)\n",
            "Shape of Output volume for Max pooling layer 1:  (16, 16, 16)\n",
            "\n",
            "Shape of Input activation maps for conv layer 2:  (16, 16, 16)\n",
            "Shape of Filter kernels for conv layer 2:  (3, 3, 16, 8)\n",
            "Shape of Output activation maps for conv layer 2:  (16, 16, 8)\n",
            "\n",
            "Shape of Input volume for Max Pooling layer 2:  (16, 16, 8)\n",
            "Shape of Output volume for Max Pooling layer 2:  (8, 8, 8)\n",
            "\n",
            "Shape of Input volume for GAP layer:  (8, 8, 8)\n",
            "Shape of Output volume for GAP layer:  (1, 1, 8)\n",
            "\n",
            "For image  14 : \n",
            "\n",
            "Shape of Input activation maps for conv layer 1:  (32, 32, 3)\n",
            "Shape of Filter kernels for conv layer 1:  (3, 3, 3, 16)\n",
            "Shape of Output activation maps for conv layer 1:  (32, 32, 16)\n",
            "\n",
            "Shape of Input volume for Max pooling layer 1:  (32, 32, 16)\n",
            "Shape of Output volume for Max pooling layer 1:  (16, 16, 16)\n",
            "\n",
            "Shape of Input activation maps for conv layer 2:  (16, 16, 16)\n",
            "Shape of Filter kernels for conv layer 2:  (3, 3, 16, 8)\n",
            "Shape of Output activation maps for conv layer 2:  (16, 16, 8)\n",
            "\n",
            "Shape of Input volume for Max Pooling layer 2:  (16, 16, 8)\n",
            "Shape of Output volume for Max Pooling layer 2:  (8, 8, 8)\n",
            "\n",
            "Shape of Input volume for GAP layer:  (8, 8, 8)\n",
            "Shape of Output volume for GAP layer:  (1, 1, 8)\n",
            "\n",
            "For image  15 : \n",
            "\n",
            "Shape of Input activation maps for conv layer 1:  (32, 32, 3)\n",
            "Shape of Filter kernels for conv layer 1:  (3, 3, 3, 16)\n",
            "Shape of Output activation maps for conv layer 1:  (32, 32, 16)\n",
            "\n",
            "Shape of Input volume for Max pooling layer 1:  (32, 32, 16)\n",
            "Shape of Output volume for Max pooling layer 1:  (16, 16, 16)\n",
            "\n",
            "Shape of Input activation maps for conv layer 2:  (16, 16, 16)\n",
            "Shape of Filter kernels for conv layer 2:  (3, 3, 16, 8)\n",
            "Shape of Output activation maps for conv layer 2:  (16, 16, 8)\n",
            "\n",
            "Shape of Input volume for Max Pooling layer 2:  (16, 16, 8)\n",
            "Shape of Output volume for Max Pooling layer 2:  (8, 8, 8)\n",
            "\n",
            "Shape of Input volume for GAP layer:  (8, 8, 8)\n",
            "Shape of Output volume for GAP layer:  (1, 1, 8)\n",
            "\n",
            "For image  16 : \n",
            "\n",
            "Shape of Input activation maps for conv layer 1:  (32, 32, 3)\n",
            "Shape of Filter kernels for conv layer 1:  (3, 3, 3, 16)\n",
            "Shape of Output activation maps for conv layer 1:  (32, 32, 16)\n",
            "\n",
            "Shape of Input volume for Max pooling layer 1:  (32, 32, 16)\n",
            "Shape of Output volume for Max pooling layer 1:  (16, 16, 16)\n",
            "\n",
            "Shape of Input activation maps for conv layer 2:  (16, 16, 16)\n",
            "Shape of Filter kernels for conv layer 2:  (3, 3, 16, 8)\n",
            "Shape of Output activation maps for conv layer 2:  (16, 16, 8)\n",
            "\n",
            "Shape of Input volume for Max Pooling layer 2:  (16, 16, 8)\n",
            "Shape of Output volume for Max Pooling layer 2:  (8, 8, 8)\n",
            "\n",
            "Shape of Input volume for GAP layer:  (8, 8, 8)\n",
            "Shape of Output volume for GAP layer:  (1, 1, 8)\n",
            "\n",
            "For image  17 : \n",
            "\n",
            "Shape of Input activation maps for conv layer 1:  (32, 32, 3)\n",
            "Shape of Filter kernels for conv layer 1:  (3, 3, 3, 16)\n",
            "Shape of Output activation maps for conv layer 1:  (32, 32, 16)\n",
            "\n",
            "Shape of Input volume for Max pooling layer 1:  (32, 32, 16)\n",
            "Shape of Output volume for Max pooling layer 1:  (16, 16, 16)\n",
            "\n",
            "Shape of Input activation maps for conv layer 2:  (16, 16, 16)\n",
            "Shape of Filter kernels for conv layer 2:  (3, 3, 16, 8)\n",
            "Shape of Output activation maps for conv layer 2:  (16, 16, 8)\n",
            "\n",
            "Shape of Input volume for Max Pooling layer 2:  (16, 16, 8)\n",
            "Shape of Output volume for Max Pooling layer 2:  (8, 8, 8)\n",
            "\n",
            "Shape of Input volume for GAP layer:  (8, 8, 8)\n",
            "Shape of Output volume for GAP layer:  (1, 1, 8)\n",
            "\n",
            "For image  18 : \n",
            "\n",
            "Shape of Input activation maps for conv layer 1:  (32, 32, 3)\n",
            "Shape of Filter kernels for conv layer 1:  (3, 3, 3, 16)\n",
            "Shape of Output activation maps for conv layer 1:  (32, 32, 16)\n",
            "\n",
            "Shape of Input volume for Max pooling layer 1:  (32, 32, 16)\n",
            "Shape of Output volume for Max pooling layer 1:  (16, 16, 16)\n",
            "\n",
            "Shape of Input activation maps for conv layer 2:  (16, 16, 16)\n",
            "Shape of Filter kernels for conv layer 2:  (3, 3, 16, 8)\n",
            "Shape of Output activation maps for conv layer 2:  (16, 16, 8)\n",
            "\n",
            "Shape of Input volume for Max Pooling layer 2:  (16, 16, 8)\n",
            "Shape of Output volume for Max Pooling layer 2:  (8, 8, 8)\n",
            "\n",
            "Shape of Input volume for GAP layer:  (8, 8, 8)\n",
            "Shape of Output volume for GAP layer:  (1, 1, 8)\n",
            "\n",
            "For image  19 : \n",
            "\n",
            "Shape of Input activation maps for conv layer 1:  (32, 32, 3)\n",
            "Shape of Filter kernels for conv layer 1:  (3, 3, 3, 16)\n",
            "Shape of Output activation maps for conv layer 1:  (32, 32, 16)\n",
            "\n",
            "Shape of Input volume for Max pooling layer 1:  (32, 32, 16)\n",
            "Shape of Output volume for Max pooling layer 1:  (16, 16, 16)\n",
            "\n",
            "Shape of Input activation maps for conv layer 2:  (16, 16, 16)\n",
            "Shape of Filter kernels for conv layer 2:  (3, 3, 16, 8)\n",
            "Shape of Output activation maps for conv layer 2:  (16, 16, 8)\n",
            "\n",
            "Shape of Input volume for Max Pooling layer 2:  (16, 16, 8)\n",
            "Shape of Output volume for Max Pooling layer 2:  (8, 8, 8)\n",
            "\n",
            "Shape of Input volume for GAP layer:  (8, 8, 8)\n",
            "Shape of Output volume for GAP layer:  (1, 1, 8)\n",
            "\n",
            "For image  20 : \n",
            "\n",
            "Shape of Input activation maps for conv layer 1:  (32, 32, 3)\n",
            "Shape of Filter kernels for conv layer 1:  (3, 3, 3, 16)\n",
            "Shape of Output activation maps for conv layer 1:  (32, 32, 16)\n",
            "\n",
            "Shape of Input volume for Max pooling layer 1:  (32, 32, 16)\n",
            "Shape of Output volume for Max pooling layer 1:  (16, 16, 16)\n",
            "\n",
            "Shape of Input activation maps for conv layer 2:  (16, 16, 16)\n",
            "Shape of Filter kernels for conv layer 2:  (3, 3, 16, 8)\n",
            "Shape of Output activation maps for conv layer 2:  (16, 16, 8)\n",
            "\n",
            "Shape of Input volume for Max Pooling layer 2:  (16, 16, 8)\n",
            "Shape of Output volume for Max Pooling layer 2:  (8, 8, 8)\n",
            "\n",
            "Shape of Input volume for GAP layer:  (8, 8, 8)\n",
            "Shape of Output volume for GAP layer:  (1, 1, 8)\n",
            "\n",
            "For image  21 : \n",
            "\n",
            "Shape of Input activation maps for conv layer 1:  (32, 32, 3)\n",
            "Shape of Filter kernels for conv layer 1:  (3, 3, 3, 16)\n",
            "Shape of Output activation maps for conv layer 1:  (32, 32, 16)\n",
            "\n",
            "Shape of Input volume for Max pooling layer 1:  (32, 32, 16)\n",
            "Shape of Output volume for Max pooling layer 1:  (16, 16, 16)\n",
            "\n",
            "Shape of Input activation maps for conv layer 2:  (16, 16, 16)\n",
            "Shape of Filter kernels for conv layer 2:  (3, 3, 16, 8)\n",
            "Shape of Output activation maps for conv layer 2:  (16, 16, 8)\n",
            "\n",
            "Shape of Input volume for Max Pooling layer 2:  (16, 16, 8)\n",
            "Shape of Output volume for Max Pooling layer 2:  (8, 8, 8)\n",
            "\n",
            "Shape of Input volume for GAP layer:  (8, 8, 8)\n",
            "Shape of Output volume for GAP layer:  (1, 1, 8)\n",
            "\n",
            "For image  22 : \n",
            "\n",
            "Shape of Input activation maps for conv layer 1:  (32, 32, 3)\n",
            "Shape of Filter kernels for conv layer 1:  (3, 3, 3, 16)\n",
            "Shape of Output activation maps for conv layer 1:  (32, 32, 16)\n",
            "\n",
            "Shape of Input volume for Max pooling layer 1:  (32, 32, 16)\n",
            "Shape of Output volume for Max pooling layer 1:  (16, 16, 16)\n",
            "\n",
            "Shape of Input activation maps for conv layer 2:  (16, 16, 16)\n",
            "Shape of Filter kernels for conv layer 2:  (3, 3, 16, 8)\n",
            "Shape of Output activation maps for conv layer 2:  (16, 16, 8)\n",
            "\n",
            "Shape of Input volume for Max Pooling layer 2:  (16, 16, 8)\n",
            "Shape of Output volume for Max Pooling layer 2:  (8, 8, 8)\n",
            "\n",
            "Shape of Input volume for GAP layer:  (8, 8, 8)\n",
            "Shape of Output volume for GAP layer:  (1, 1, 8)\n",
            "\n",
            "For image  23 : \n",
            "\n",
            "Shape of Input activation maps for conv layer 1:  (32, 32, 3)\n",
            "Shape of Filter kernels for conv layer 1:  (3, 3, 3, 16)\n",
            "Shape of Output activation maps for conv layer 1:  (32, 32, 16)\n",
            "\n",
            "Shape of Input volume for Max pooling layer 1:  (32, 32, 16)\n",
            "Shape of Output volume for Max pooling layer 1:  (16, 16, 16)\n",
            "\n",
            "Shape of Input activation maps for conv layer 2:  (16, 16, 16)\n",
            "Shape of Filter kernels for conv layer 2:  (3, 3, 16, 8)\n",
            "Shape of Output activation maps for conv layer 2:  (16, 16, 8)\n",
            "\n",
            "Shape of Input volume for Max Pooling layer 2:  (16, 16, 8)\n",
            "Shape of Output volume for Max Pooling layer 2:  (8, 8, 8)\n",
            "\n",
            "Shape of Input volume for GAP layer:  (8, 8, 8)\n",
            "Shape of Output volume for GAP layer:  (1, 1, 8)\n",
            "\n",
            "For image  24 : \n",
            "\n",
            "Shape of Input activation maps for conv layer 1:  (32, 32, 3)\n",
            "Shape of Filter kernels for conv layer 1:  (3, 3, 3, 16)\n",
            "Shape of Output activation maps for conv layer 1:  (32, 32, 16)\n",
            "\n",
            "Shape of Input volume for Max pooling layer 1:  (32, 32, 16)\n",
            "Shape of Output volume for Max pooling layer 1:  (16, 16, 16)\n",
            "\n",
            "Shape of Input activation maps for conv layer 2:  (16, 16, 16)\n",
            "Shape of Filter kernels for conv layer 2:  (3, 3, 16, 8)\n",
            "Shape of Output activation maps for conv layer 2:  (16, 16, 8)\n",
            "\n",
            "Shape of Input volume for Max Pooling layer 2:  (16, 16, 8)\n",
            "Shape of Output volume for Max Pooling layer 2:  (8, 8, 8)\n",
            "\n",
            "Shape of Input volume for GAP layer:  (8, 8, 8)\n",
            "Shape of Output volume for GAP layer:  (1, 1, 8)\n",
            "\n",
            "For image  25 : \n",
            "\n",
            "Shape of Input activation maps for conv layer 1:  (32, 32, 3)\n",
            "Shape of Filter kernels for conv layer 1:  (3, 3, 3, 16)\n",
            "Shape of Output activation maps for conv layer 1:  (32, 32, 16)\n",
            "\n",
            "Shape of Input volume for Max pooling layer 1:  (32, 32, 16)\n",
            "Shape of Output volume for Max pooling layer 1:  (16, 16, 16)\n",
            "\n",
            "Shape of Input activation maps for conv layer 2:  (16, 16, 16)\n",
            "Shape of Filter kernels for conv layer 2:  (3, 3, 16, 8)\n",
            "Shape of Output activation maps for conv layer 2:  (16, 16, 8)\n",
            "\n",
            "Shape of Input volume for Max Pooling layer 2:  (16, 16, 8)\n",
            "Shape of Output volume for Max Pooling layer 2:  (8, 8, 8)\n",
            "\n",
            "Shape of Input volume for GAP layer:  (8, 8, 8)\n",
            "Shape of Output volume for GAP layer:  (1, 1, 8)\n",
            "\n",
            "For image  26 : \n",
            "\n",
            "Shape of Input activation maps for conv layer 1:  (32, 32, 3)\n",
            "Shape of Filter kernels for conv layer 1:  (3, 3, 3, 16)\n",
            "Shape of Output activation maps for conv layer 1:  (32, 32, 16)\n",
            "\n",
            "Shape of Input volume for Max pooling layer 1:  (32, 32, 16)\n",
            "Shape of Output volume for Max pooling layer 1:  (16, 16, 16)\n",
            "\n",
            "Shape of Input activation maps for conv layer 2:  (16, 16, 16)\n",
            "Shape of Filter kernels for conv layer 2:  (3, 3, 16, 8)\n",
            "Shape of Output activation maps for conv layer 2:  (16, 16, 8)\n",
            "\n",
            "Shape of Input volume for Max Pooling layer 2:  (16, 16, 8)\n",
            "Shape of Output volume for Max Pooling layer 2:  (8, 8, 8)\n",
            "\n",
            "Shape of Input volume for GAP layer:  (8, 8, 8)\n",
            "Shape of Output volume for GAP layer:  (1, 1, 8)\n",
            "\n",
            "For image  27 : \n",
            "\n",
            "Shape of Input activation maps for conv layer 1:  (32, 32, 3)\n",
            "Shape of Filter kernels for conv layer 1:  (3, 3, 3, 16)\n",
            "Shape of Output activation maps for conv layer 1:  (32, 32, 16)\n",
            "\n",
            "Shape of Input volume for Max pooling layer 1:  (32, 32, 16)\n",
            "Shape of Output volume for Max pooling layer 1:  (16, 16, 16)\n",
            "\n",
            "Shape of Input activation maps for conv layer 2:  (16, 16, 16)\n",
            "Shape of Filter kernels for conv layer 2:  (3, 3, 16, 8)\n",
            "Shape of Output activation maps for conv layer 2:  (16, 16, 8)\n",
            "\n",
            "Shape of Input volume for Max Pooling layer 2:  (16, 16, 8)\n",
            "Shape of Output volume for Max Pooling layer 2:  (8, 8, 8)\n",
            "\n",
            "Shape of Input volume for GAP layer:  (8, 8, 8)\n",
            "Shape of Output volume for GAP layer:  (1, 1, 8)\n",
            "\n",
            "For image  28 : \n",
            "\n",
            "Shape of Input activation maps for conv layer 1:  (32, 32, 3)\n",
            "Shape of Filter kernels for conv layer 1:  (3, 3, 3, 16)\n",
            "Shape of Output activation maps for conv layer 1:  (32, 32, 16)\n",
            "\n",
            "Shape of Input volume for Max pooling layer 1:  (32, 32, 16)\n",
            "Shape of Output volume for Max pooling layer 1:  (16, 16, 16)\n",
            "\n",
            "Shape of Input activation maps for conv layer 2:  (16, 16, 16)\n",
            "Shape of Filter kernels for conv layer 2:  (3, 3, 16, 8)\n",
            "Shape of Output activation maps for conv layer 2:  (16, 16, 8)\n",
            "\n",
            "Shape of Input volume for Max Pooling layer 2:  (16, 16, 8)\n",
            "Shape of Output volume for Max Pooling layer 2:  (8, 8, 8)\n",
            "\n",
            "Shape of Input volume for GAP layer:  (8, 8, 8)\n",
            "Shape of Output volume for GAP layer:  (1, 1, 8)\n",
            "\n",
            "For image  29 : \n",
            "\n",
            "Shape of Input activation maps for conv layer 1:  (32, 32, 3)\n",
            "Shape of Filter kernels for conv layer 1:  (3, 3, 3, 16)\n",
            "Shape of Output activation maps for conv layer 1:  (32, 32, 16)\n",
            "\n",
            "Shape of Input volume for Max pooling layer 1:  (32, 32, 16)\n",
            "Shape of Output volume for Max pooling layer 1:  (16, 16, 16)\n",
            "\n",
            "Shape of Input activation maps for conv layer 2:  (16, 16, 16)\n",
            "Shape of Filter kernels for conv layer 2:  (3, 3, 16, 8)\n",
            "Shape of Output activation maps for conv layer 2:  (16, 16, 8)\n",
            "\n",
            "Shape of Input volume for Max Pooling layer 2:  (16, 16, 8)\n",
            "Shape of Output volume for Max Pooling layer 2:  (8, 8, 8)\n",
            "\n",
            "Shape of Input volume for GAP layer:  (8, 8, 8)\n",
            "Shape of Output volume for GAP layer:  (1, 1, 8)\n",
            "\n",
            "For image  30 : \n",
            "\n",
            "Shape of Input activation maps for conv layer 1:  (32, 32, 3)\n",
            "Shape of Filter kernels for conv layer 1:  (3, 3, 3, 16)\n",
            "Shape of Output activation maps for conv layer 1:  (32, 32, 16)\n",
            "\n",
            "Shape of Input volume for Max pooling layer 1:  (32, 32, 16)\n",
            "Shape of Output volume for Max pooling layer 1:  (16, 16, 16)\n",
            "\n",
            "Shape of Input activation maps for conv layer 2:  (16, 16, 16)\n",
            "Shape of Filter kernels for conv layer 2:  (3, 3, 16, 8)\n",
            "Shape of Output activation maps for conv layer 2:  (16, 16, 8)\n",
            "\n",
            "Shape of Input volume for Max Pooling layer 2:  (16, 16, 8)\n",
            "Shape of Output volume for Max Pooling layer 2:  (8, 8, 8)\n",
            "\n",
            "Shape of Input volume for GAP layer:  (8, 8, 8)\n",
            "Shape of Output volume for GAP layer:  (1, 1, 8)\n",
            "\n"
          ]
        }
      ]
    },
    {
      "cell_type": "code",
      "source": [
        "flatten_vectors = np.array(flatten_vectors) #converting list to array\n",
        "flatten_vectors_2D = flatten_vectors.reshape(flatten_vectors.shape[0], -1) \n",
        "print(flatten_vectors_2D.shape)\n"
      ],
      "metadata": {
        "colab": {
          "base_uri": "https://localhost:8080/"
        },
        "id": "mkC8YTeskTrE",
        "outputId": "619ceef7-efc4-4071-9c2b-e5c6fd01b6ab"
      },
      "execution_count": 147,
      "outputs": [
        {
          "output_type": "stream",
          "name": "stdout",
          "text": [
            "(30, 64)\n"
          ]
        }
      ]
    },
    {
      "cell_type": "code",
      "source": [
        "# Plotting the bottleneck layer using PCA\n",
        "from sklearn.decomposition import PCA\n",
        "\n",
        "pca = PCA(n_components=2)\n",
        "bottleneck_features_2d = pca.fit_transform(flatten_vectors_2D)\n",
        "\n",
        "# Plotting 2D representation of bottleneck layer\n",
        "import matplotlib.pyplot as plt\n",
        "\n",
        "colors = ['r', 'b', 'g', 'purple', 'm', 'y', 'k', 'orange', 'grey', 'brown']\n",
        "fig, ax = plt.subplots()\n",
        "\n",
        "for i in range(10):\n",
        "    ax.scatter(bottleneck_features_2d[i*num_images_per_class:(i+1)*num_images_per_class, 0], \n",
        "               bottleneck_features_2d[i*num_images_per_class:(i+1)*num_images_per_class, 1], \n",
        "               color=colors[i], label=class_names[i])\n"
      ],
      "metadata": {
        "colab": {
          "base_uri": "https://localhost:8080/",
          "height": 265
        },
        "id": "cqB_-nw0oSS9",
        "outputId": "142c3090-ba5a-46d8-d7d9-af18809fe044"
      },
      "execution_count": 148,
      "outputs": [
        {
          "output_type": "display_data",
          "data": {
            "text/plain": [
              "<Figure size 432x288 with 1 Axes>"
            ],
            "image/png": "[encoded data removed]"
          },
          "metadata": {
            "needs_background": "light"
          }
        }
      ]
    }
  ]
}